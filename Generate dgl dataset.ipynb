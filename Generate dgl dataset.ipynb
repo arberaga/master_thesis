{
 "cells": [
  {
   "cell_type": "code",
   "execution_count": 2,
   "id": "29057c3a",
   "metadata": {},
   "outputs": [
    {
     "name": "stdout",
     "output_type": "stream",
     "text": [
      "Done saving data into cached files.\n",
      "[('city', 'in_city_inv', 'house'), ('floor', 'has_floor_inv', 'house'), ('hospital', 'has_hospital_inv', 'house'), ('house', 'has_floor', 'floor'), ('house', 'has_hospital', 'hospital'), ('house', 'has_park', 'park'), ('house', 'has_purpose', 'purpose'), ('house', 'has_ttype', 'ttype'), ('house', 'in_city', 'city'), ('park', 'has_park_inv', 'house'), ('purpose', 'has_purpose_inv', 'house'), ('ttype', 'has_ttype_inv', 'house')]\n",
      "In Dataset: Melbourne, node types num: 7\n",
      "In Dataset: Melbourne, edge types num: 12\n",
      "There are total 4 nodes in type city\n",
      "There are total 1940 nodes in type floor\n",
      "There are total 2646 nodes in type hospital\n",
      "There are total 215143 nodes in type house\n",
      "There are total 5727 nodes in type park\n",
      "There are total 13 nodes in type purpose\n",
      "There are total 4 nodes in type ttype\n",
      "There are total 215143 edges in type ('city', 'in_city_inv', 'house')\n",
      "There are total 215143 edges in type ('floor', 'has_floor_inv', 'house')\n",
      "There are total 867680 edges in type ('hospital', 'has_hospital_inv', 'house')\n",
      "There are total 215143 edges in type ('house', 'has_floor', 'floor')\n",
      "There are total 867680 edges in type ('house', 'has_hospital', 'hospital')\n",
      "There are total 1043449 edges in type ('house', 'has_park', 'park')\n",
      "There are total 215143 edges in type ('house', 'has_purpose', 'purpose')\n",
      "There are total 215143 edges in type ('house', 'has_ttype', 'ttype')\n",
      "There are total 215143 edges in type ('house', 'in_city', 'city')\n",
      "There are total 1043449 edges in type ('park', 'has_park_inv', 'house')\n",
      "There are total 215143 edges in type ('purpose', 'has_purpose_inv', 'house')\n",
      "There are total 215143 edges in type ('ttype', 'has_ttype_inv', 'house')\n"
     ]
    }
   ],
   "source": [
    "import dgl\n",
    "\n",
    "dataset = dgl.data.CSVDataset('./taiwan_dataset/vx/', force_reload=True)\n",
    "\n",
    "g = dataset[0]  # only one graph\n",
    "#g = dgl.load_graphs(\"/home/arberaga/Desktop/MasterThesis/gcn_for_housing/taiwan_dataset/v1/taiwan after minmaxing/taiwan after minmaxing.bin\")[0]\n",
    "print(g.canonical_etypes)\n",
    "#dgl.data.utils.save_graphs(\"/home/arberaga/Desktop/MasterThesis/gcn_for_housing/melbourne_dataset/Without externals after minmax/data.bin\", [g])\n",
    "print('In Dataset: Melbourne, node types num: {}'.format(len(g.ntypes)))\n",
    "print('In Dataset: Melbourne, edge types num: {}'.format(len(g.etypes)))\n",
    "\n",
    "for ntype in g.ntypes:\n",
    "    print('There are total {} nodes in type {}'.format(g.number_of_nodes(ntype), ntype))\n",
    "\n",
    "for src, etype, dst in g.canonical_etypes:\n",
    "    print('There are total {} edges in type {}'.format(g.number_of_edges((src, etype, dst)), (src, etype, dst)))\n"
   ]
  },
  {
   "cell_type": "code",
   "execution_count": 3,
   "id": "56dbb245",
   "metadata": {},
   "outputs": [
    {
     "name": "stdout",
     "output_type": "stream",
     "text": [
      "{'feat': tensor([[10.0000,  4.9310,  0.0000,  ...,  1.7788,  8.8449,  1.0000],\n",
      "        [ 7.4630,  3.1724,  1.0000,  ...,  1.7672,  8.8309,  1.0000],\n",
      "        [ 6.5630,  1.2069,  1.0000,  ...,  1.5464,  8.7960,  1.0000],\n",
      "        ...,\n",
      "        [ 7.3100,  4.0000,  1.0000,  ...,  1.5509,  8.7999,  0.0000],\n",
      "        [ 9.4510,  3.7931,  1.0000,  ...,  1.5527,  8.7948,  0.0000],\n",
      "        [ 6.3990,  2.4483,  1.0000,  ...,  1.5569,  8.7940,  0.0000]]), 'Price': tensor([0.8200, 0.5213, 0.6680,  ..., 0.4800, 0.5800, 0.4430]), 'train_mask': tensor([ True,  True,  True,  ..., False, False, False]), 'test_mask': tensor([False, False, False,  ..., False, False, False]), 'validate_mask': tensor([False, False, False,  ...,  True,  True,  True])}\n"
     ]
    }
   ],
   "source": [
    "#print(g.nodes[\"hospital\"].data[\"feat\"][0])\n",
    "print(g.nodes[\"house\"].data)"
   ]
  }
 ],
 "metadata": {
  "kernelspec": {
   "display_name": "Python 3.7.16 ('data_science')",
   "language": "python",
   "name": "python3"
  },
  "language_info": {
   "codemirror_mode": {
    "name": "ipython",
    "version": 3
   },
   "file_extension": ".py",
   "mimetype": "text/x-python",
   "name": "python",
   "nbconvert_exporter": "python",
   "pygments_lexer": "ipython3",
   "version": "3.7.16"
  },
  "vscode": {
   "interpreter": {
    "hash": "3752a3b1280e531b094d3a3fac7107b9cd241dd6b2cc76e11eff9feaf8feea7b"
   }
  }
 },
 "nbformat": 4,
 "nbformat_minor": 5
}
